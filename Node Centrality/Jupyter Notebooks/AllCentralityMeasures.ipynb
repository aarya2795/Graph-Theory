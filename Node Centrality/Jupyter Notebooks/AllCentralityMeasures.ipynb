{
 "cells": [
  {
   "cell_type": "code",
   "execution_count": 1,
   "metadata": {},
   "outputs": [],
   "source": [
    "import networkx as nx\n",
    "import matplotlib.pyplot as plt\n",
    "import pandas as pd\n",
    "from numpy import linalg as LA\n",
    "from collections import defaultdict"
   ]
  },
  {
   "cell_type": "code",
   "execution_count": 2,
   "metadata": {},
   "outputs": [],
   "source": [
    "Knetwork = nx.krackhardt_kite_graph()"
   ]
  },
  {
   "cell_type": "code",
   "execution_count": 4,
   "metadata": {},
   "outputs": [
    {
     "data": {
      "image/png": "[encoded data removed]",
      "text/plain": [
       "<Figure size 432x288 with 1 Axes>"
      ]
     },
     "metadata": {},
     "output_type": "display_data"
    }
   ],
   "source": [
    "nx.draw(Knetwork, with_labels = True)"
   ]
  },
  {
   "cell_type": "code",
   "execution_count": 5,
   "metadata": {},
   "outputs": [],
   "source": [
    "#Adjacency matrix for the krackhardt_kite network\n",
    "Adjacency_matrix = [ [0] * Knetwork.number_of_nodes() for i in range(Knetwork.number_of_nodes())]\n",
    "for row, column in list(Knetwork.edges):\n",
    "    Adjacency_matrix[row][column] = 1              #edge exists between i and j so insert 1\n",
    "    Adjacency_matrix[column][row] = 1              #value of A[j][i] equals A[i][j] since krackhardt_kite is an undirected graph"
   ]
  },
  {
   "cell_type": "code",
   "execution_count": 6,
   "metadata": {},
   "outputs": [
    {
     "name": "stdout",
     "output_type": "stream",
     "text": [
      "Adjacency Matrix for the krackhardt_kite network:- \n"
     ]
    },
    {
     "data": {
      "text/plain": [
       "[[0, 1, 1, 1, 0, 1, 0, 0, 0, 0],\n",
       " [1, 0, 0, 1, 1, 0, 1, 0, 0, 0],\n",
       " [1, 0, 0, 1, 0, 1, 0, 0, 0, 0],\n",
       " [1, 1, 1, 0, 1, 1, 1, 0, 0, 0],\n",
       " [0, 1, 0, 1, 0, 0, 1, 0, 0, 0],\n",
       " [1, 0, 1, 1, 0, 0, 1, 1, 0, 0],\n",
       " [0, 1, 0, 1, 1, 1, 0, 1, 0, 0],\n",
       " [0, 0, 0, 0, 0, 1, 1, 0, 1, 0],\n",
       " [0, 0, 0, 0, 0, 0, 0, 1, 0, 1],\n",
       " [0, 0, 0, 0, 0, 0, 0, 0, 1, 0]]"
      ]
     },
     "execution_count": 6,
     "metadata": {},
     "output_type": "execute_result"
    }
   ],
   "source": [
    "print(\"Adjacency Matrix for the krackhardt_kite network:- \")\n",
    "Adjacency_matrix"
   ]
  },
  {
   "cell_type": "markdown",
   "metadata": {},
   "source": [
    "<h3><u>Normalized Degree Centrality</u> :-</h3>\n",
    "    <br>First we define \"degree centrality\" measure and then the \"normalized degree centrality\" measure\n",
    "    <br><br><b>Degree Centrality</b> - Simple centrality measure which counts the number of neighbors a node has.\n",
    "    The degree centrality $C_{d}$ for node v$_{i}$ in an undirected graph is computed as: <br>$$C_{d}(v_{i}) = d_{i}$$</b><br>       &emsp;&emsp;&emsp;&emsp;&emsp;&emsp;&emsp;&emsp;where d$_{i}$ is the degree (number of adjacent edges) of node v$_{i}$\n",
    "    <br><br><b>Normalized Degree Centrality</b> - To overcome the problem of degree centralities not allowed to be compared between different networks, we need to normalize the degree centrality values.\n",
    "    <br> Simple normalization is done by dividing the degree centrality by the maximum possible degree; this yields measures ranging from 0 to 1. This is computed as follows:-<br><b>$$C^{norm}_{d}(v_i) =\\frac{d_i}{n-1} ,$$</b>\n",
    "    <br> &emsp;&emsp;&emsp;&emsp;&emsp;&emsp;&emsp;&emsp;where n is the number of nodes.\n",
    "    <br>\n",
    "    <br><br><b>Most Central Node</b>\n",
    "    <b> \n",
    "    <br> Reason:</b> Degree centrality assumes that the node with the maximum degree is the\n",
    "most central individual.<br>The most central node for the degree centrality measure for krackhardt_kite_graph is <b>node 3</b> as it has maximum degree(6) among the degrees of all other nodes. In the network plotted at the bottom this node is shown using <b>green color</b>."
   ]
  },
  {
   "cell_type": "code",
   "execution_count": 7,
   "metadata": {},
   "outputs": [],
   "source": [
    "norm_degree_centrality = []              #stores the normalized degree centrality vector\n",
    "number_of_nodes = Knetwork.number_of_nodes()\n",
    "for i, j in list(Knetwork.degree()):\n",
    "    norm_degree_centrality.append((j / (number_of_nodes-1)))"
   ]
  },
  {
   "cell_type": "code",
   "execution_count": 8,
   "metadata": {},
   "outputs": [
    {
     "name": "stdout",
     "output_type": "stream",
     "text": [
      "Vector of normalized degree centralities:- \n"
     ]
    },
    {
     "data": {
      "text/plain": [
       "[0.4444444444444444,\n",
       " 0.4444444444444444,\n",
       " 0.3333333333333333,\n",
       " 0.6666666666666666,\n",
       " 0.3333333333333333,\n",
       " 0.5555555555555556,\n",
       " 0.5555555555555556,\n",
       " 0.3333333333333333,\n",
       " 0.2222222222222222,\n",
       " 0.1111111111111111]"
      ]
     },
     "execution_count": 8,
     "metadata": {},
     "output_type": "execute_result"
    }
   ],
   "source": [
    "print(\"Vector of normalized degree centralities:- \")\n",
    "norm_degree_centrality"
   ]
  },
  {
   "cell_type": "markdown",
   "metadata": {},
   "source": [
    "<h3><u> Closeness Centrality Measure </u></h3>\n",
    "<br><b> Definition: </b>Closeness centrality is defined as: A measure to calculate the closeness of a node in the network. <br>It is computed as: <br> $$C_c(v_i) = \\frac{1}{\\bar{l}_{v_i}} ,  $$<br> &emsp;&emsp;&emsp;&emsp;&emsp;&emsp;&emsp;&emsp;&emsp;where ${\\bar{l}_{v_i}} = \\frac{1}{n-1}\\displaystyle{ \\sum_{v_i ≠ v_j}}l_{i,j}$ is node v<sub>i</sub>’s average shortest path length to other\n",
    "nodes. \n",
    "<br><br><b>Most Central Node</b><br>The most centralnode for this measure is the one with the highest centrality measure value.<br><b>Reason</b> As the more central a node is, the closer it is to all other nodes.<br>E.g. in the Krackhardt_kite network, <b>nodes 5 and 6</b> are the most central nodes for the closeness centrality measure. In the network plotted at the bottom these nodes are shown using <b>violet color</b>."
   ]
  },
  {
   "cell_type": "code",
   "execution_count": 9,
   "metadata": {},
   "outputs": [],
   "source": [
    "closeness_centrality_vector = []\n",
    "for vertex in Knetwork.nodes():\n",
    "    sum_of_values = 0\n",
    "    short_list_Knet = nx.shortest_path_length(Knetwork,vertex)\n",
    "    short_list_Knet.pop(vertex)\n",
    "    for value in short_list_Knet.values():\n",
    "        sum_of_values  = sum_of_values + value\n",
    "    sum_of_shortest_path_length = sum_of_values\n",
    "    number_of_remaining_nodes = len(short_list_Knet.keys())\n",
    "    avg_shortest_path_length = sum_of_shortest_path_length / number_of_remaining_nodes\n",
    "    closeness_centrality_vector.append(1 / avg_shortest_path_length)"
   ]
  },
  {
   "cell_type": "code",
   "execution_count": 10,
   "metadata": {},
   "outputs": [
    {
     "name": "stdout",
     "output_type": "stream",
     "text": [
      "The vector of closeness centralities:- \n"
     ]
    },
    {
     "data": {
      "text/plain": [
       "[0.5294117647058824,\n",
       " 0.5294117647058824,\n",
       " 0.5,\n",
       " 0.6,\n",
       " 0.5,\n",
       " 0.6428571428571428,\n",
       " 0.6428571428571428,\n",
       " 0.6,\n",
       " 0.42857142857142855,\n",
       " 0.3103448275862069]"
      ]
     },
     "execution_count": 10,
     "metadata": {},
     "output_type": "execute_result"
    }
   ],
   "source": [
    "print(\"The vector of closeness centralities:- \")\n",
    "closeness_centrality_vector"
   ]
  },
  {
   "cell_type": "markdown",
   "metadata": {},
   "source": [
    "<h3><u>Eigenvector Centrality Measure</u></h3>\n",
    "<br><b> Definition: </b> It is basically a measure of influence of a node in a network. This measure considers the importance of its neighbors and tries to generalize the degree centrality measure\n",
    "<br> $$c_e(v_i) = \\frac{1}{\\lambda} \\sum^n_{j=1} A_{j,i} \\,c_e(v_j) , $$<br> where λ is some fixed constant. Assuming C<sub>e</sub> = (C<sub>e</sub>(v<sub>1</sub>), C<sub>e</sub>(v<sub>2</sub>), . . . , C<sub>e</sub>(v<sub>n</sub> ))<sup>T</sup>\n",
    "is the centrality vectors for all nodes, we can rewrite the above equation as &emsp;&emsp;λC<sub>e</sub> = A<sup>T</sup>C<sub>e</sub> .. this means that C<sub>e</sub> is an eigenvector of adjacency matrix A<sup>T</sup> and λ is the corresponding eigenvalue.<br> On obtaining the eigen values we select the largest eigen value and then using this we compute the corresspodning eigenvector.\n",
    "<br><br><b>Most Central Node</b><br>The node with the highest eigenvector centrality value is the most central node<br><b>Reason:</b> as a high value of eigenvector centrality indicates that the node is connected to many nodes who themselves have high scores><br>E.g. in the Krackhardt_kite network, node 3 is the most central node for the Eigen Vector Centrality measure. In the network plotted at the bottom this node is shown using <b>green color</b>."
   ]
  },
  {
   "cell_type": "code",
   "execution_count": 11,
   "metadata": {},
   "outputs": [
    {
     "data": {
      "text/plain": [
       "[0.3522093968166348,\n",
       " 0.3522093968166351,\n",
       " 0.28583499139087204,\n",
       " 0.48102085827280855,\n",
       " 0.28583499139087154,\n",
       " 0.39769063647017,\n",
       " 0.3976906364701699,\n",
       " 0.1958605830278113,\n",
       " 0.04807348502628255,\n",
       " 0.011163255309775699]"
      ]
     },
     "execution_count": 11,
     "metadata": {},
     "output_type": "execute_result"
    }
   ],
   "source": [
    "#Eigenvector Centrality\n",
    "eigen_values, eigen_vectors = LA.eig(Adjacency_matrix)\n",
    "eigenvector_centrality_vector = list(eigen_vectors[:,eigen_values.argmax()])\n",
    "eigenvector_centrality_vector"
   ]
  },
  {
   "cell_type": "code",
   "execution_count": 12,
   "metadata": {},
   "outputs": [
    {
     "name": "stdout",
     "output_type": "stream",
     "text": [
      "The vector of Eigenvector centralities:- \n"
     ]
    },
    {
     "data": {
      "text/plain": [
       "[0.3522093968166348,\n",
       " 0.3522093968166351,\n",
       " 0.28583499139087204,\n",
       " 0.48102085827280855,\n",
       " 0.28583499139087154,\n",
       " 0.39769063647017,\n",
       " 0.3976906364701699,\n",
       " 0.1958605830278113,\n",
       " 0.04807348502628255,\n",
       " 0.011163255309775699]"
      ]
     },
     "execution_count": 12,
     "metadata": {},
     "output_type": "execute_result"
    }
   ],
   "source": [
    "print(\"The vector of Eigenvector centralities:- \")\n",
    "eigenvector_centrality_vector "
   ]
  },
  {
   "cell_type": "markdown",
   "metadata": {},
   "source": [
    "<h3><u>Betweennes Centrality Measure</u></h3>\n",
    "<br><b> Definition: </b> It is basically a measure of influence of node among a network on the other nodes of the network. It measures how much a vertex lies on the paths between other vertices. <br>It is computes using the following equation: <br>$$\\displaystyle{C_b(v_i) = \\sum_{s!=t!=v_i}  \\frac{σ_{st}(v_i)}{σ_{s,t}}}$$ <br> σ<sub>st</sub> is the number of shortest paths from node s to t (also known\n",
    "as information pathways), and σ<sub>st</sub>(v<sub>i</sub>) is the number of shortest paths from s\n",
    "to t that pass through v<sub>i</sub><br><br><b>Most Central Node</b> The most central node for this measure is the one with the highest betweenness centrality value.<br><b>Reason:</b>A higher betweenness centrality value of the node means that the node is more influential compared to the rest of the nodes in the network. This means they are of higher importance and message passing between them is crucial. It also would imply that the removal of this node would cause problems in communication as they appear on most of the paths between the nodes.<br><br>E.g. in the Krackhardt_kite network, <b>node 7 is the most central node</b> for the betweenness centrality measure. In the network plotted at the bottom this node is shown using <b>blue color</b>."
   ]
  },
  {
   "cell_type": "code",
   "execution_count": 13,
   "metadata": {},
   "outputs": [],
   "source": [
    "vertices_list = list(Knetwork.nodes())\n",
    "store_sum = {x: 0.0 for x in vertices_list}\n",
    "short_paths = defaultdict(dict)\n",
    "betweenness_centrality_vector = []\n",
    "avg = 0\n",
    "# Get shortest paths between all pairs of vertices\n",
    "for s, vertex in enumerate(vertices_list[:-1]):\n",
    "    for t in vertices_list[s+1:]:\n",
    "        short_paths[vertex][t] = [path for path in nx.all_shortest_paths(Knetwork, vertex, t)]\n",
    "\n",
    "for vertex in vertices_list:\n",
    "    counter = 0\n",
    "    sum = 0\n",
    "    for s, vertex1 in enumerate(vertices_list[:-1]):        \n",
    "        for vertex2 in vertices_list[s+1:]:\n",
    "            counter = 0\n",
    "            avg = 0\n",
    "            for path in short_paths[vertex1][vertex2]:\n",
    "                if vertex in path[1:-1]:\n",
    "                    counter = counter + 1\n",
    "                    if counter > 1:\n",
    "                        sum = sum-0.5\n",
    "                    avg = avg + (1/len(short_paths[vertex1][vertex2]))\n",
    "                    sum = sum + avg\n",
    "                    store_sum[vertex.real] = sum\n",
    "                    \n",
    "for i in store_sum.values():\n",
    "    betweenness_centrality_vector.append(i) "
   ]
  },
  {
   "cell_type": "code",
   "execution_count": 14,
   "metadata": {},
   "outputs": [
    {
     "name": "stdout",
     "output_type": "stream",
     "text": [
      "The vector of betweenness centralities:- \n"
     ]
    },
    {
     "data": {
      "text/plain": [
       "[0.8333333333333333,\n",
       " 0.8333333333333333,\n",
       " 0.0,\n",
       " 3.6666666666666665,\n",
       " 0.0,\n",
       " 8.333333333333332,\n",
       " 8.333333333333332,\n",
       " 14.0,\n",
       " 8.0,\n",
       " 0.0]"
      ]
     },
     "execution_count": 14,
     "metadata": {},
     "output_type": "execute_result"
    }
   ],
   "source": [
    "print(\"The vector of betweenness centralities:- \")\n",
    "betweenness_centrality_vector "
   ]
  },
  {
   "cell_type": "code",
   "execution_count": 15,
   "metadata": {},
   "outputs": [
    {
     "data": {
      "image/png": "[encoded data removed]",
      "text/plain": [
       "<Figure size 432x288 with 1 Axes>"
      ]
     },
     "metadata": {},
     "output_type": "display_data"
    }
   ],
   "source": [
    "color_map = ['yellow', 'yellow', 'yellow', 'green', 'yellow', 'violet', 'violet', 'blue', 'yellow', 'yellow']\n",
    "nx.draw(Knetwork, with_labels = True, node_color = color_map)\n",
    "plt.show()"
   ]
  }
 ],
 "metadata": {
  "kernelspec": {
   "display_name": "Python 3",
   "language": "python",
   "name": "python3"
  },
  "language_info": {
   "codemirror_mode": {
    "name": "ipython",
    "version": 3
   },
   "file_extension": ".py",
   "mimetype": "text/x-python",
   "name": "python",
   "nbconvert_exporter": "python",
   "pygments_lexer": "ipython3",
   "version": "3.7.3"
  }
 },
 "nbformat": 4,
 "nbformat_minor": 2
}
